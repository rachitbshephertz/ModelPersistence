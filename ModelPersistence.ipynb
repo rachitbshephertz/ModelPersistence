{
 "cells": [
  {
   "cell_type": "markdown",
   "metadata": {
    "collapsed": true
   },
   "source": [
    "# Model Persistence (Adult dataset)\n",
    "\n",
    "In this notebook we will be going to learn model persistence with Adultdata dataset using pickle library of python. We will answer the questions such as: What is model persistence?; When it is used? and Why we use a particular method?\n",
    "\n",
    "## When do we need model persistence?\n",
    "\n",
    "Consider these Machine Learning (ML) use cases:  \n",
    "* A data scientist produces an ML model and hands it over to an engineering team for deployment in a production environment.  \n",
    "* A data engineer integrates a model training workflow in Python with a model serving workflow in Java.  \n",
    "* A data scientist creates jobs to train many ML models, to be saved and evaluated later.\n",
    "\n",
    "All of these use cases are easier with **model persistence**, the ability to save and load models.\n",
    "\n",
    "## What is model persistence?\n",
    "\n",
    "Finding an accurate machine learning model is not the end of the project. Model persistence allows you to save your model to ﬁle and load it later in order to make predictions. There are number of ways through which we can save and load our data, such as:\n",
    "\n",
    "* pickle\n",
    "* cPickle\n",
    "* joblib\n",
    "* apache thrift\n",
    "* HDF5\n",
    "\n",
    "Depending on what you want to save or load you can use the appropriate method.\n",
    "\n",
    "## Why to use a particular method for model persistence?\n",
    "\n",
    "Key features of ML persistence method include:\n",
    "\n",
    "* Support for all language APIs: Scala, Java, Python & R  \n",
    "* Support for nearly all ML algorithms in the DataFrame-based API  \n",
    "* Support for single models and full Pipelines, both unfitted (a “recipe”) and fitted (a result)  \n",
    "* Distributed storage using an exchangeable format"
   ]
  },
  {
   "cell_type": "code",
   "execution_count": 1,
   "metadata": {
    "collapsed": true
   },
   "outputs": [],
   "source": [
    "#importing the libraries\n",
    "import numpy as np\n",
    "import pandas as pd"
   ]
  },
  {
   "cell_type": "markdown",
   "metadata": {},
   "source": [
    "The Adultdata.xlsx dataset contains 13 different attributes of an individual such as his/her Workclass, Education, Marital Status, etc. and on target variable. The target variable specifies whether that individuals salary is less than or more than 50K.\n",
    "\n",
    "### Connecting to dataset through mysql connector\n",
    "\n",
    "Here we try to create a generalized way to create a *\"MySQL\"* object and apply different methods to that object in order to load the dataframe."
   ]
  },
  {
   "cell_type": "code",
   "execution_count": 2,
   "metadata": {
    "collapsed": true
   },
   "outputs": [],
   "source": [
    "import mysql.connector\n",
    "\n",
    "# creating a MySQL object class\n",
    "class MySQL(object):\n",
    "    \n",
    "    cursor = None\n",
    "    def __init__(self):\n",
    "        pass\n",
    "\n",
    "    # func. to connect to the the dataset; returning cursor\n",
    "    def connect(self, host, username, password, db, ds):\n",
    "        self.connection = mysql.connector.connect(host=host, database=db, user=username, password=password)\n",
    "        MySQL.cursor = self.connection.cursor()\n",
    "        MySQL.cursor.execute('SELECT * FROM ' + db + '.' + ds)\n",
    "        return self.cursor\n",
    "\n",
    "    #func. to lead the dataset into pandas dataframe\n",
    "    def dataset(self, cursor):\n",
    "\n",
    "        df = pd.DataFrame(MySQL.cursor.fetchall())\n",
    "        return df\n",
    "\n",
    "    #func.  which returns a list of column headings\n",
    "    def get_columns(self, param):\n",
    "        if not MySQL.cursor:\n",
    "            MySQL.connect(self, host=param[\"host\"], username=param[\"username\"],\n",
    "                          password=param[\"password\"], db=param[\"db\"], ds = param['ds'])\n",
    "        a = self.cursor.column_names\n",
    "        return a"
   ]
  },
  {
   "cell_type": "markdown",
   "metadata": {},
   "source": [
    "### Loading the dataframe"
   ]
  },
  {
   "cell_type": "code",
   "execution_count": 3,
   "metadata": {},
   "outputs": [
    {
     "name": "stdout",
     "output_type": "stream",
     "text": [
      "('Age', 'Workclass', 'fnlwgt', 'Education', 'Education_Num', 'Martial_Status', 'Occupation', 'Relationship', 'Race', 'Sex', 'Capital_Gain', 'Capital_Loss', 'Hours_per_week', 'Country', 'Target')\n"
     ]
    }
   ],
   "source": [
    "# The credentials required for Adultdata dataset\n",
    "param = {\"host\" : \"192.168.1.11\", \"username\" : \"root\", \"password\" : \"\", \"db\": \"cs\", \"ds\":\"adultdatasetSQL_1526547134645 a;\"}\n",
    "\n",
    "# Creating a MySQL object\n",
    "data = MySQL()\n",
    "\n",
    "l = data.get_columns(param)\n",
    "print(l)"
   ]
  },
  {
   "cell_type": "code",
   "execution_count": 4,
   "metadata": {},
   "outputs": [
    {
     "data": {
      "text/html": [
       "<div>\n",
       "<style>\n",
       "    .dataframe thead tr:only-child th {\n",
       "        text-align: right;\n",
       "    }\n",
       "\n",
       "    .dataframe thead th {\n",
       "        text-align: left;\n",
       "    }\n",
       "\n",
       "    .dataframe tbody tr th {\n",
       "        vertical-align: top;\n",
       "    }\n",
       "</style>\n",
       "<table border=\"1\" class=\"dataframe\">\n",
       "  <thead>\n",
       "    <tr style=\"text-align: right;\">\n",
       "      <th></th>\n",
       "      <th>Age</th>\n",
       "      <th>Workclass</th>\n",
       "      <th>fnlwgt</th>\n",
       "      <th>Education</th>\n",
       "      <th>Education_Num</th>\n",
       "      <th>Martial_Status</th>\n",
       "      <th>Occupation</th>\n",
       "      <th>Relationship</th>\n",
       "      <th>Race</th>\n",
       "      <th>Sex</th>\n",
       "      <th>Capital_Gain</th>\n",
       "      <th>Capital_Loss</th>\n",
       "      <th>Hours_per_week</th>\n",
       "      <th>Country</th>\n",
       "      <th>Target</th>\n",
       "    </tr>\n",
       "  </thead>\n",
       "  <tbody>\n",
       "    <tr>\n",
       "      <th>0</th>\n",
       "      <td>39</td>\n",
       "      <td>Stategov</td>\n",
       "      <td>77516</td>\n",
       "      <td>Bachelors</td>\n",
       "      <td>13</td>\n",
       "      <td>Nevermarried</td>\n",
       "      <td>Admclerical</td>\n",
       "      <td>Notinfamily</td>\n",
       "      <td>White</td>\n",
       "      <td>Male</td>\n",
       "      <td>2174</td>\n",
       "      <td>0</td>\n",
       "      <td>40</td>\n",
       "      <td>UnitedStates</td>\n",
       "      <td>1</td>\n",
       "    </tr>\n",
       "    <tr>\n",
       "      <th>1</th>\n",
       "      <td>50</td>\n",
       "      <td>Selfempnotinc</td>\n",
       "      <td>83311</td>\n",
       "      <td>Bachelors</td>\n",
       "      <td>13</td>\n",
       "      <td>Marriedcivspouse</td>\n",
       "      <td>Execmanagerial</td>\n",
       "      <td>Husband</td>\n",
       "      <td>White</td>\n",
       "      <td>Male</td>\n",
       "      <td>0</td>\n",
       "      <td>0</td>\n",
       "      <td>13</td>\n",
       "      <td>UnitedStates</td>\n",
       "      <td>1</td>\n",
       "    </tr>\n",
       "    <tr>\n",
       "      <th>2</th>\n",
       "      <td>38</td>\n",
       "      <td>Private</td>\n",
       "      <td>215646</td>\n",
       "      <td>HSgrad</td>\n",
       "      <td>9</td>\n",
       "      <td>Divorced</td>\n",
       "      <td>Handlerscleaners</td>\n",
       "      <td>Notinfamily</td>\n",
       "      <td>White</td>\n",
       "      <td>Male</td>\n",
       "      <td>0</td>\n",
       "      <td>0</td>\n",
       "      <td>40</td>\n",
       "      <td>UnitedStates</td>\n",
       "      <td>1</td>\n",
       "    </tr>\n",
       "    <tr>\n",
       "      <th>3</th>\n",
       "      <td>53</td>\n",
       "      <td>Private</td>\n",
       "      <td>234721</td>\n",
       "      <td>11th</td>\n",
       "      <td>7</td>\n",
       "      <td>Marriedcivspouse</td>\n",
       "      <td>Handlerscleaners</td>\n",
       "      <td>Husband</td>\n",
       "      <td>Black</td>\n",
       "      <td>Male</td>\n",
       "      <td>0</td>\n",
       "      <td>0</td>\n",
       "      <td>40</td>\n",
       "      <td>UnitedStates</td>\n",
       "      <td>1</td>\n",
       "    </tr>\n",
       "    <tr>\n",
       "      <th>4</th>\n",
       "      <td>28</td>\n",
       "      <td>Private</td>\n",
       "      <td>338409</td>\n",
       "      <td>Bachelors</td>\n",
       "      <td>13</td>\n",
       "      <td>Marriedcivspouse</td>\n",
       "      <td>Profspecialty</td>\n",
       "      <td>Wife</td>\n",
       "      <td>Black</td>\n",
       "      <td>Female</td>\n",
       "      <td>0</td>\n",
       "      <td>0</td>\n",
       "      <td>40</td>\n",
       "      <td>Cuba</td>\n",
       "      <td>1</td>\n",
       "    </tr>\n",
       "  </tbody>\n",
       "</table>\n",
       "</div>"
      ],
      "text/plain": [
       "  Age      Workclass  fnlwgt  Education Education_Num    Martial_Status  \\\n",
       "0  39       Stategov   77516  Bachelors            13      Nevermarried   \n",
       "1  50  Selfempnotinc   83311  Bachelors            13  Marriedcivspouse   \n",
       "2  38        Private  215646     HSgrad             9          Divorced   \n",
       "3  53        Private  234721       11th             7  Marriedcivspouse   \n",
       "4  28        Private  338409  Bachelors            13  Marriedcivspouse   \n",
       "\n",
       "         Occupation Relationship   Race     Sex Capital_Gain Capital_Loss  \\\n",
       "0       Admclerical  Notinfamily  White    Male         2174            0   \n",
       "1    Execmanagerial      Husband  White    Male            0            0   \n",
       "2  Handlerscleaners  Notinfamily  White    Male            0            0   \n",
       "3  Handlerscleaners      Husband  Black    Male            0            0   \n",
       "4     Profspecialty         Wife  Black  Female            0            0   \n",
       "\n",
       "  Hours_per_week       Country Target  \n",
       "0             40  UnitedStates      1  \n",
       "1             13  UnitedStates      1  \n",
       "2             40  UnitedStates      1  \n",
       "3             40  UnitedStates      1  \n",
       "4             40          Cuba      1  "
      ]
     },
     "execution_count": 4,
     "metadata": {},
     "output_type": "execute_result"
    }
   ],
   "source": [
    "# loading the dataset into a dataframe named 'df'.\n",
    "df = data.dataset(data.connect(\"192.168.1.11\",  \"root\", \"\", \"cs\", \"adultdatasetSQL_1526547134645 a;\"))\n",
    "df.columns = l\n",
    "df.head()"
   ]
  },
  {
   "cell_type": "code",
   "execution_count": 5,
   "metadata": {},
   "outputs": [
    {
     "name": "stdout",
     "output_type": "stream",
     "text": [
      "(19601, 15)\n"
     ]
    }
   ],
   "source": [
    "# finding and removing missing data\n",
    "df = df.replace(' ?', np.nan)\n",
    "df.dropna()\n",
    "print(df.shape)"
   ]
  },
  {
   "cell_type": "code",
   "execution_count": 6,
   "metadata": {},
   "outputs": [
    {
     "data": {
      "text/html": [
       "<div>\n",
       "<style>\n",
       "    .dataframe thead tr:only-child th {\n",
       "        text-align: right;\n",
       "    }\n",
       "\n",
       "    .dataframe thead th {\n",
       "        text-align: left;\n",
       "    }\n",
       "\n",
       "    .dataframe tbody tr th {\n",
       "        vertical-align: top;\n",
       "    }\n",
       "</style>\n",
       "<table border=\"1\" class=\"dataframe\">\n",
       "  <thead>\n",
       "    <tr style=\"text-align: right;\">\n",
       "      <th></th>\n",
       "      <th>Workclass</th>\n",
       "      <th>Education</th>\n",
       "      <th>Martial_Status</th>\n",
       "      <th>Occupation</th>\n",
       "      <th>Relationship</th>\n",
       "      <th>Race</th>\n",
       "      <th>Sex</th>\n",
       "      <th>Country</th>\n",
       "      <th>Target</th>\n",
       "    </tr>\n",
       "  </thead>\n",
       "  <tbody>\n",
       "    <tr>\n",
       "      <th>count</th>\n",
       "      <td>19601</td>\n",
       "      <td>19601</td>\n",
       "      <td>19601</td>\n",
       "      <td>19601</td>\n",
       "      <td>19601</td>\n",
       "      <td>19601</td>\n",
       "      <td>19601</td>\n",
       "      <td>19601</td>\n",
       "      <td>19601</td>\n",
       "    </tr>\n",
       "    <tr>\n",
       "      <th>unique</th>\n",
       "      <td>9</td>\n",
       "      <td>16</td>\n",
       "      <td>7</td>\n",
       "      <td>15</td>\n",
       "      <td>6</td>\n",
       "      <td>5</td>\n",
       "      <td>4</td>\n",
       "      <td>41</td>\n",
       "      <td>2</td>\n",
       "    </tr>\n",
       "    <tr>\n",
       "      <th>top</th>\n",
       "      <td>Private</td>\n",
       "      <td>HSgrad</td>\n",
       "      <td>Marriedcivspouse</td>\n",
       "      <td>Profspecialty</td>\n",
       "      <td>Husband</td>\n",
       "      <td>White</td>\n",
       "      <td>Male</td>\n",
       "      <td>UnitedStates</td>\n",
       "      <td>1</td>\n",
       "    </tr>\n",
       "    <tr>\n",
       "      <th>freq</th>\n",
       "      <td>13630</td>\n",
       "      <td>6407</td>\n",
       "      <td>8974</td>\n",
       "      <td>2502</td>\n",
       "      <td>7876</td>\n",
       "      <td>16787</td>\n",
       "      <td>13102</td>\n",
       "      <td>17540</td>\n",
       "      <td>14923</td>\n",
       "    </tr>\n",
       "  </tbody>\n",
       "</table>\n",
       "</div>"
      ],
      "text/plain": [
       "       Workclass Education    Martial_Status     Occupation Relationship  \\\n",
       "count      19601     19601             19601          19601        19601   \n",
       "unique         9        16                 7             15            6   \n",
       "top      Private    HSgrad  Marriedcivspouse  Profspecialty      Husband   \n",
       "freq       13630      6407              8974           2502         7876   \n",
       "\n",
       "         Race    Sex       Country Target  \n",
       "count   19601  19601         19601  19601  \n",
       "unique      5      4            41      2  \n",
       "top     White   Male  UnitedStates      1  \n",
       "freq    16787  13102         17540  14923  "
      ]
     },
     "execution_count": 6,
     "metadata": {},
     "output_type": "execute_result"
    }
   ],
   "source": [
    "# Understanding the data with decriptive statistics.\n",
    "df[['Workclass', 'Education', 'Martial_Status', 'Occupation', 'Relationship', 'Race', 'Sex', 'Country', 'Target']].describe()"
   ]
  },
  {
   "cell_type": "markdown",
   "metadata": {},
   "source": [
    "### Converting features into categorical variables and coding\n",
    "\n",
    "For deploying machine learning classification algorithms it is necessary to transform the string lists into categorical variables. We can then form integer codes from those qualitative categorical variables which are better understood by the classifier."
   ]
  },
  {
   "cell_type": "code",
   "execution_count": 7,
   "metadata": {
    "collapsed": true
   },
   "outputs": [],
   "source": [
    "features = ['Workclass', 'Martial_Status', 'Occupation', 'Relationship', 'Race', 'Sex', 'Country']\n",
    "\n",
    "for column in features:\n",
    "    df[column] = df[column].astype(\"category\").cat.codes"
   ]
  },
  {
   "cell_type": "code",
   "execution_count": 8,
   "metadata": {},
   "outputs": [
    {
     "data": {
      "text/html": [
       "<div>\n",
       "<style>\n",
       "    .dataframe thead tr:only-child th {\n",
       "        text-align: right;\n",
       "    }\n",
       "\n",
       "    .dataframe thead th {\n",
       "        text-align: left;\n",
       "    }\n",
       "\n",
       "    .dataframe tbody tr th {\n",
       "        vertical-align: top;\n",
       "    }\n",
       "</style>\n",
       "<table border=\"1\" class=\"dataframe\">\n",
       "  <thead>\n",
       "    <tr style=\"text-align: right;\">\n",
       "      <th></th>\n",
       "      <th>Age</th>\n",
       "      <th>Workclass</th>\n",
       "      <th>fnlwgt</th>\n",
       "      <th>Education_Num</th>\n",
       "      <th>Martial_Status</th>\n",
       "      <th>Occupation</th>\n",
       "      <th>Relationship</th>\n",
       "      <th>Race</th>\n",
       "      <th>Sex</th>\n",
       "      <th>Hours_per_week</th>\n",
       "      <th>Country</th>\n",
       "      <th>Target</th>\n",
       "    </tr>\n",
       "  </thead>\n",
       "  <tbody>\n",
       "    <tr>\n",
       "      <th>0</th>\n",
       "      <td>39</td>\n",
       "      <td>7</td>\n",
       "      <td>77516</td>\n",
       "      <td>13</td>\n",
       "      <td>4</td>\n",
       "      <td>1</td>\n",
       "      <td>1</td>\n",
       "      <td>4</td>\n",
       "      <td>3</td>\n",
       "      <td>40</td>\n",
       "      <td>38</td>\n",
       "      <td>1</td>\n",
       "    </tr>\n",
       "    <tr>\n",
       "      <th>1</th>\n",
       "      <td>50</td>\n",
       "      <td>6</td>\n",
       "      <td>83311</td>\n",
       "      <td>13</td>\n",
       "      <td>2</td>\n",
       "      <td>4</td>\n",
       "      <td>0</td>\n",
       "      <td>4</td>\n",
       "      <td>3</td>\n",
       "      <td>13</td>\n",
       "      <td>38</td>\n",
       "      <td>1</td>\n",
       "    </tr>\n",
       "    <tr>\n",
       "      <th>2</th>\n",
       "      <td>38</td>\n",
       "      <td>4</td>\n",
       "      <td>215646</td>\n",
       "      <td>9</td>\n",
       "      <td>0</td>\n",
       "      <td>6</td>\n",
       "      <td>1</td>\n",
       "      <td>4</td>\n",
       "      <td>3</td>\n",
       "      <td>40</td>\n",
       "      <td>38</td>\n",
       "      <td>1</td>\n",
       "    </tr>\n",
       "    <tr>\n",
       "      <th>3</th>\n",
       "      <td>53</td>\n",
       "      <td>4</td>\n",
       "      <td>234721</td>\n",
       "      <td>7</td>\n",
       "      <td>2</td>\n",
       "      <td>6</td>\n",
       "      <td>0</td>\n",
       "      <td>2</td>\n",
       "      <td>3</td>\n",
       "      <td>40</td>\n",
       "      <td>38</td>\n",
       "      <td>1</td>\n",
       "    </tr>\n",
       "    <tr>\n",
       "      <th>4</th>\n",
       "      <td>28</td>\n",
       "      <td>4</td>\n",
       "      <td>338409</td>\n",
       "      <td>13</td>\n",
       "      <td>2</td>\n",
       "      <td>10</td>\n",
       "      <td>5</td>\n",
       "      <td>2</td>\n",
       "      <td>2</td>\n",
       "      <td>40</td>\n",
       "      <td>5</td>\n",
       "      <td>1</td>\n",
       "    </tr>\n",
       "  </tbody>\n",
       "</table>\n",
       "</div>"
      ],
      "text/plain": [
       "  Age  Workclass  fnlwgt Education_Num  Martial_Status  Occupation  \\\n",
       "0  39          7   77516            13               4           1   \n",
       "1  50          6   83311            13               2           4   \n",
       "2  38          4  215646             9               0           6   \n",
       "3  53          4  234721             7               2           6   \n",
       "4  28          4  338409            13               2          10   \n",
       "\n",
       "   Relationship  Race  Sex Hours_per_week  Country Target  \n",
       "0             1     4    3             40       38      1  \n",
       "1             0     4    3             13       38      1  \n",
       "2             1     4    3             40       38      1  \n",
       "3             0     2    3             40       38      1  \n",
       "4             5     2    2             40        5      1  "
      ]
     },
     "execution_count": 8,
     "metadata": {},
     "output_type": "execute_result"
    }
   ],
   "source": [
    "# Deleting unnecessary features can save both time and effort.\n",
    "df.drop(['Education', 'Capital_Gain', 'Capital_Loss'], axis = 1, inplace = True)\n",
    "df.head()"
   ]
  },
  {
   "cell_type": "markdown",
   "metadata": {},
   "source": [
    "Our predictor variables are the first 11 parameters and the target variable is the last parameters which determine whether the salary of a person is less than or more than 50K. \n",
    "\n",
    "It is necessary to create separate *nd arrays* for predictor and target variables in order to train them on different statistical learning algorithms using *sklearn* library"
   ]
  },
  {
   "cell_type": "code",
   "execution_count": 9,
   "metadata": {
    "collapsed": true
   },
   "outputs": [],
   "source": [
    "#converting the dataset into predictor and target arrays\n",
    "array = df.values\n",
    "X = array[:, 0:11]\n",
    "Y = array[:, 11]"
   ]
  },
  {
   "cell_type": "code",
   "execution_count": 10,
   "metadata": {
    "collapsed": true
   },
   "outputs": [],
   "source": [
    "from sklearn.ensemble import RandomForestClassifier\n",
    "\n",
    "# using random selection on 3 features and classification with 100 trees\n",
    "model = RandomForestClassifier(n_estimators= 2000, max_depth = 10, min_samples_split = 10, min_samples_leaf = 1,\n",
    "                                    bootstrap = True, random_state = 42)"
   ]
  },
  {
   "cell_type": "code",
   "execution_count": 11,
   "metadata": {},
   "outputs": [
    {
     "data": {
      "text/plain": [
       "RandomForestClassifier(bootstrap=True, class_weight=None, criterion='gini',\n",
       "            max_depth=10, max_features='auto', max_leaf_nodes=None,\n",
       "            min_impurity_decrease=0.0, min_impurity_split=None,\n",
       "            min_samples_leaf=1, min_samples_split=10,\n",
       "            min_weight_fraction_leaf=0.0, n_estimators=2000, n_jobs=1,\n",
       "            oob_score=False, random_state=42, verbose=0, warm_start=False)"
      ]
     },
     "execution_count": 11,
     "metadata": {},
     "output_type": "execute_result"
    }
   ],
   "source": [
    "from sklearn.model_selection import train_test_split\n",
    "\n",
    "# Using train_test_split to split the data to training and test datasets\n",
    "X_train, X_test, Y_train, Y_test = train_test_split(X, Y, test_size=0.33, random_state=42) \n",
    "model.fit(X_train, Y_train)"
   ]
  },
  {
   "cell_type": "code",
   "execution_count": 12,
   "metadata": {},
   "outputs": [
    {
     "name": "stdout",
     "output_type": "stream",
     "text": [
      "Accuracy:  84.0160766734\n"
     ]
    }
   ],
   "source": [
    "# testing the model with test split\n",
    "result = model.score(X_test, Y_test) \n",
    "print(\"Accuracy: \", (result*100.0))"
   ]
  },
  {
   "cell_type": "markdown",
   "metadata": {},
   "source": [
    "The fitted model is giving the accuracy of 84%.\n",
    "\n",
    "## Comparing model persistence through Pickle and Joblib\n",
    "\n",
    "We used pickle and joblib libraries of Python 3.x to save our trained Random Forests Model in case we need it to predict results in future. These two are the most commonly used libraries to save dataframe based models.\n",
    "\n",
    "### Pickle\n",
    "\n",
    "Pickle is the standard way of serializing objects in Python. We used the pickle operation to serialize our machine learning algorithms and save the serialized format to a ﬁle. Later we can load this ﬁle to deserialize our model and use it to make new predictions. The advantage of using pickle is that it can serialize pretty much any Python object, without having to add any extra code. Its also smart in that in will only write out any single object once, making it effective to store recursive structures like graphs. \n",
    "\n",
    "### Joblib\n",
    "\n",
    "The Joblib2 library is part of the SciPy ecosystem and provides utilities for pipelining Python jobs. It provides utilities for saving and loading Python objects that make use of NumPy data structures, eﬃciently3. This can be useful for some machine learning algorithms that require a lot of parameters or store the entire dataset (e.g. k-Nearest Neighbors)."
   ]
  },
  {
   "cell_type": "code",
   "execution_count": 13,
   "metadata": {},
   "outputs": [
    {
     "name": "stdout",
     "output_type": "stream",
     "text": [
      "1.12 s ± 374 ms per loop (mean ± std. dev. of 7 runs, 1 loop each)\n",
      "0.8432074401543281\n",
      "1.13 s ± 147 ms per loop (mean ± std. dev. of 7 runs, 1 loop each)\n",
      "1.025578374946594\n"
     ]
    }
   ],
   "source": [
    "# importing the necessary libraries\n",
    "import pickle\n",
    "from sklearn.externals import joblib\n",
    "\n",
    "filename = 'finalized_model.sav' \n",
    "\n",
    "# using the magic fuction \"%timeit\" to estimate execution time.\n",
    "# saving the execution time 'pickle.dump() through '-o' command\n",
    "result = %timeit -o pickle.dump(model, open(filename, 'wb'))\n",
    "print(result.best)\n",
    "\n",
    "# saving the execution time of 'joblib.dump()'\n",
    "result2 = %timeit -o joblib.dump(model, filename)\n",
    "print(result2.best)"
   ]
  },
  {
   "cell_type": "code",
   "execution_count": 14,
   "metadata": {},
   "outputs": [
    {
     "name": "stdout",
     "output_type": "stream",
     "text": [
      "81.64986324310303 mb\n",
      "81.55475807189941 mb\n"
     ]
    }
   ],
   "source": [
    "# saving the Random Forests model through pickle and joblib respectively\n",
    "pickle.dump(model, open('finalized_model1.sav', 'wb'))\n",
    "joblib.dump(model, 'finalized_model2.sav')\n",
    "\n",
    "import os\n",
    "\n",
    "# locating the pickle saved model file and getting it's size\n",
    "file1 = 'C:/Users/hp/finalized_model1.sav'\n",
    "file_size1 = os.path.getsize(file1)/(1024*1024.0)\n",
    "print(file_size1, \"mb\")\n",
    "\n",
    "# locating the joblib saved model file and getting it's size\n",
    "file2 = 'C:/Users/hp/finalized_model2.sav'\n",
    "file_size2 = os.path.getsize(file2)/(1024*1024.0)\n",
    "print(file_size2, \"mb\")"
   ]
  },
  {
   "cell_type": "code",
   "execution_count": 15,
   "metadata": {},
   "outputs": [
    {
     "data": {
      "image/png": "[encoded data removed]",
      "text/plain": [
       "<matplotlib.figure.Figure at 0x2911cffde80>"
      ]
     },
     "metadata": {},
     "output_type": "display_data"
    }
   ],
   "source": [
    "# plotting the execution time and memory used on disk\n",
    "# for pickle and joblib model\n",
    "import matplotlib.pyplot as plt\n",
    "\n",
    "fig = plt.figure(figsize = (10, 6))\n",
    "\n",
    "ax1 = fig.add_subplot(121)\n",
    "ax1.bar(['pickle', 'joblib'], [result.best, result2.best])\n",
    "\n",
    "ax2 = fig.add_subplot(122)\n",
    "ax2.bar(['pickle', 'joblib'], [file_size1, file_size2])\n",
    "\n",
    "ax1.set_ylabel('Execution_time (seconds)', size = 12)\n",
    "ax2.set_ylabel('Memory in disk (megabytes)', size = 12)\n",
    "\n",
    "plt.suptitle('Cpmparing Pickle and Joblib', size = 14)\n",
    "\n",
    "plt.show()"
   ]
  },
  {
   "cell_type": "markdown",
   "metadata": {},
   "source": [
    "The above results shows:  \n",
    "1. Joblib is taking more time to store the model.\n",
    "2. Both pickle and joblib saved files consumes nearly same space on the disk\n",
    "\n",
    "### Some problems in using pickle\n",
    "* Pickle is both slower and produces larger serialized values than most of the alternatives.  \n",
    "* Pickle is a security risk. Another reason not to use pickle is that unpickling malicious data can cause security issues, including arbitrary code execution.  "
   ]
  },
  {
   "cell_type": "markdown",
   "metadata": {},
   "source": [
    "## Alternative to pickle:\n",
    "\n",
    "If we want to store large amounts of data that we need to quick access to our standard text file isn’t going to cut it. The kinds of cosmological simulations that we run generate huge amounts of data, and to analyse them we need to be able access the exact data that we want quickly and painlessly.\n",
    "\n",
    "HDF5 is one answer. It’s a powerful binary data format with no upper limit on the file size. It provides parallel IO, and carries out a bunch of low level optimisations under the hood to make queries faster and storage requirements smaller.\n",
    "\n",
    "#### We can save the following attributes of random forests as hdf5 file and use them to fit our model again:  \n",
    "\n",
    "**estimators_**: It is a list of fitted DecisionTressClassifiers/sub-estimators\n",
    "\n",
    "**classes_**: It is an array containing classes labels, or a list of arrays of class labels (multi-output problem).\n",
    "\n",
    "**nclasses_:** It is the number of classes, or a list containing the number of classes for each output (multi-output problem).\n",
    "\n",
    "**noutputs_**: It is an integer giving the number of outputs when 'fit' is performed.\n",
    "\n",
    "**For example:** Some days later we need to predict results with our previously trained Random Forests Model named \"model\". We can used the saved model attributes in the new model with same optimized parameters to get the same results. We will name our new model as \"model2\"\n"
   ]
  },
  {
   "cell_type": "code",
   "execution_count": 16,
   "metadata": {
    "collapsed": true
   },
   "outputs": [],
   "source": [
    "model2 = RandomForestClassifier(n_estimators=2000, max_depth = 10, min_samples_split = 10, min_samples_leaf = 1,\n",
    "                                    bootstrap = True, random_state = 42)"
   ]
  },
  {
   "cell_type": "code",
   "execution_count": 17,
   "metadata": {
    "collapsed": true
   },
   "outputs": [],
   "source": [
    "attributes = ['estimators_', 'classes_', 'n_classes_', 'n_features_', 'n_outputs_', 'feature_importances_']\n",
    "\n",
    "model2.estimators_ = model.estimators_\n",
    "model2.classes_ = model.classes_\n",
    "model2.n_classes_ = model.n_classes_\n",
    "model2.n_outputs_ = model.n_outputs_"
   ]
  },
  {
   "cell_type": "code",
   "execution_count": 18,
   "metadata": {},
   "outputs": [
    {
     "name": "stdout",
     "output_type": "stream",
     "text": [
      "Accuracy:  84.0160766734\n"
     ]
    }
   ],
   "source": [
    "result = model2.score(X_test, Y_test) \n",
    "print(\"Accuracy: \", (result*100.0))"
   ]
  },
  {
   "cell_type": "markdown",
   "metadata": {},
   "source": [
    "The results the generated by *model2* are exactly the same generated by *model*"
   ]
  }
 ],
 "metadata": {
  "kernelspec": {
   "display_name": "Python 3",
   "language": "python",
   "name": "python3"
  },
  "language_info": {
   "codemirror_mode": {
    "name": "ipython",
    "version": 3
   },
   "file_extension": ".py",
   "mimetype": "text/x-python",
   "name": "python",
   "nbconvert_exporter": "python",
   "pygments_lexer": "ipython3",
   "version": "3.6.3"
  }
 },
 "nbformat": 4,
 "nbformat_minor": 2
}
